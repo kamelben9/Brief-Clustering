{
 "cells": [
  {
   "cell_type": "code",
   "execution_count": 565,
   "metadata": {},
   "outputs": [],
   "source": [
    "import pandas as pd\n",
    "import matplotlib.pyplot as plt\n",
    "import seaborn as sns\n",
    "from pandas_profiling import ProfileReport\n",
    "import numpy as np \n",
    "from sklearn.preprocessing import StandardScaler\n",
    "from kmodes.kprototypes import KPrototypes"
   ]
  },
  {
   "cell_type": "code",
   "execution_count": 566,
   "metadata": {},
   "outputs": [],
   "source": [
    "data = pd.read_csv(\"df_par_id.csv\")"
   ]
  },
  {
   "cell_type": "code",
   "execution_count": 567,
   "metadata": {},
   "outputs": [],
   "source": [
    "data = data.sample(60000)"
   ]
  },
  {
   "cell_type": "code",
   "execution_count": 568,
   "metadata": {},
   "outputs": [],
   "source": [
    "data = data[[ 'freight_value', 'review_score',\n",
    "       'score_freq',  'score_rec', 'score_montant', 'order_purchase_timestamp',\n",
    "       'customer_city', \n",
    "       'categorie_regroupee']]"
   ]
  },
  {
   "cell_type": "code",
   "execution_count": 569,
   "metadata": {},
   "outputs": [],
   "source": [
    "data[\"order_purchase_timestamp\"] = data[\"order_purchase_timestamp\"].str[:10]\n",
    "data['order_purchase_timestamp'] = pd.to_datetime(data['order_purchase_timestamp'], errors='coerce')\n",
    "data = data[data['order_purchase_timestamp'].notna()]\n",
    "data  = data.sort_values('order_purchase_timestamp')"
   ]
  },
  {
   "cell_type": "code",
   "execution_count": 570,
   "metadata": {},
   "outputs": [],
   "source": [
    "data = data[[ 'freight_value', 'review_score',\n",
    "       'score_freq',  'score_rec', 'score_montant', \n",
    "      \n",
    "       'categorie_regroupee']]"
   ]
  },
  {
   "cell_type": "markdown",
   "metadata": {},
   "source": [
    "## classer DF d'apres order_purchased_timestamp "
   ]
  },
  {
   "cell_type": "code",
   "execution_count": 571,
   "metadata": {},
   "outputs": [
    {
     "data": {
      "text/html": [
       "<div>\n",
       "<style scoped>\n",
       "    .dataframe tbody tr th:only-of-type {\n",
       "        vertical-align: middle;\n",
       "    }\n",
       "\n",
       "    .dataframe tbody tr th {\n",
       "        vertical-align: top;\n",
       "    }\n",
       "\n",
       "    .dataframe thead th {\n",
       "        text-align: right;\n",
       "    }\n",
       "</style>\n",
       "<table border=\"1\" class=\"dataframe\">\n",
       "  <thead>\n",
       "    <tr style=\"text-align: right;\">\n",
       "      <th></th>\n",
       "      <th>freight_value</th>\n",
       "      <th>review_score</th>\n",
       "      <th>score_freq</th>\n",
       "      <th>score_rec</th>\n",
       "      <th>score_montant</th>\n",
       "      <th>categorie_regroupee</th>\n",
       "    </tr>\n",
       "  </thead>\n",
       "  <tbody>\n",
       "    <tr>\n",
       "      <th>68464</th>\n",
       "      <td>14.11</td>\n",
       "      <td>1.0</td>\n",
       "      <td>1.0</td>\n",
       "      <td>1.0</td>\n",
       "      <td>1.0</td>\n",
       "      <td>Mode de Vie</td>\n",
       "    </tr>\n",
       "    <tr>\n",
       "      <th>36360</th>\n",
       "      <td>17.24</td>\n",
       "      <td>3.0</td>\n",
       "      <td>1.0</td>\n",
       "      <td>1.0</td>\n",
       "      <td>1.0</td>\n",
       "      <td>Mode de Vie</td>\n",
       "    </tr>\n",
       "    <tr>\n",
       "      <th>52193</th>\n",
       "      <td>13.56</td>\n",
       "      <td>1.0</td>\n",
       "      <td>1.0</td>\n",
       "      <td>1.0</td>\n",
       "      <td>4.0</td>\n",
       "      <td>Mobilier</td>\n",
       "    </tr>\n",
       "    <tr>\n",
       "      <th>17627</th>\n",
       "      <td>17.19</td>\n",
       "      <td>4.0</td>\n",
       "      <td>1.0</td>\n",
       "      <td>1.0</td>\n",
       "      <td>1.0</td>\n",
       "      <td>Mode de Vie</td>\n",
       "    </tr>\n",
       "    <tr>\n",
       "      <th>6314</th>\n",
       "      <td>17.37</td>\n",
       "      <td>1.0</td>\n",
       "      <td>1.0</td>\n",
       "      <td>1.0</td>\n",
       "      <td>3.0</td>\n",
       "      <td>Mobilier</td>\n",
       "    </tr>\n",
       "    <tr>\n",
       "      <th>...</th>\n",
       "      <td>...</td>\n",
       "      <td>...</td>\n",
       "      <td>...</td>\n",
       "      <td>...</td>\n",
       "      <td>...</td>\n",
       "      <td>...</td>\n",
       "    </tr>\n",
       "    <tr>\n",
       "      <th>4647</th>\n",
       "      <td>8.45</td>\n",
       "      <td>5.0</td>\n",
       "      <td>1.0</td>\n",
       "      <td>5.0</td>\n",
       "      <td>4.0</td>\n",
       "      <td>Mode</td>\n",
       "    </tr>\n",
       "    <tr>\n",
       "      <th>1530</th>\n",
       "      <td>9.52</td>\n",
       "      <td>5.0</td>\n",
       "      <td>1.0</td>\n",
       "      <td>5.0</td>\n",
       "      <td>3.0</td>\n",
       "      <td>Alimentation</td>\n",
       "    </tr>\n",
       "    <tr>\n",
       "      <th>47461</th>\n",
       "      <td>15.39</td>\n",
       "      <td>5.0</td>\n",
       "      <td>1.0</td>\n",
       "      <td>5.0</td>\n",
       "      <td>2.0</td>\n",
       "      <td>Beauté et Santé</td>\n",
       "    </tr>\n",
       "    <tr>\n",
       "      <th>12618</th>\n",
       "      <td>7.39</td>\n",
       "      <td>5.0</td>\n",
       "      <td>1.0</td>\n",
       "      <td>5.0</td>\n",
       "      <td>1.0</td>\n",
       "      <td>Mode de Vie</td>\n",
       "    </tr>\n",
       "    <tr>\n",
       "      <th>67822</th>\n",
       "      <td>8.33</td>\n",
       "      <td>3.0</td>\n",
       "      <td>1.0</td>\n",
       "      <td>5.0</td>\n",
       "      <td>1.0</td>\n",
       "      <td>Autre</td>\n",
       "    </tr>\n",
       "  </tbody>\n",
       "</table>\n",
       "<p>58835 rows × 6 columns</p>\n",
       "</div>"
      ],
      "text/plain": [
       "       freight_value  review_score  score_freq  score_rec  score_montant  \\\n",
       "68464          14.11           1.0         1.0        1.0            1.0   \n",
       "36360          17.24           3.0         1.0        1.0            1.0   \n",
       "52193          13.56           1.0         1.0        1.0            4.0   \n",
       "17627          17.19           4.0         1.0        1.0            1.0   \n",
       "6314           17.37           1.0         1.0        1.0            3.0   \n",
       "...              ...           ...         ...        ...            ...   \n",
       "4647            8.45           5.0         1.0        5.0            4.0   \n",
       "1530            9.52           5.0         1.0        5.0            3.0   \n",
       "47461          15.39           5.0         1.0        5.0            2.0   \n",
       "12618           7.39           5.0         1.0        5.0            1.0   \n",
       "67822           8.33           3.0         1.0        5.0            1.0   \n",
       "\n",
       "      categorie_regroupee  \n",
       "68464         Mode de Vie  \n",
       "36360         Mode de Vie  \n",
       "52193            Mobilier  \n",
       "17627         Mode de Vie  \n",
       "6314             Mobilier  \n",
       "...                   ...  \n",
       "4647                 Mode  \n",
       "1530         Alimentation  \n",
       "47461     Beauté et Santé  \n",
       "12618         Mode de Vie  \n",
       "67822               Autre  \n",
       "\n",
       "[58835 rows x 6 columns]"
      ]
     },
     "execution_count": 571,
     "metadata": {},
     "output_type": "execute_result"
    }
   ],
   "source": [
    "data"
   ]
  },
  {
   "cell_type": "code",
   "execution_count": 572,
   "metadata": {},
   "outputs": [],
   "source": [
    "n = int(len(data) * 0.9) # calculate the index of the last row to keep\n",
    "data_pourcent = data.iloc[:n, :] # create a new DataFrame with the first 90% of the rows\n"
   ]
  },
  {
   "cell_type": "code",
   "execution_count": 573,
   "metadata": {},
   "outputs": [],
   "source": [
    "data_pourcent = data_pourcent.dropna()\n"
   ]
  },
  {
   "cell_type": "code",
   "execution_count": 574,
   "metadata": {},
   "outputs": [],
   "source": [
    "m = int(len(data) * 0.5) # calculate the index of the last row to keep\n",
    "data_pourcente = data.iloc[:m, :] # create a new DataFrame with the first 90% of the rows\n"
   ]
  },
  {
   "cell_type": "code",
   "execution_count": 575,
   "metadata": {},
   "outputs": [],
   "source": [
    "o = int(len(data) * 0.6) # calculate the index of the last row to keep\n",
    "data_pourcendix = data.iloc[:o, :] # create a new DataFrame with the first 10% of the rows"
   ]
  },
  {
   "cell_type": "code",
   "execution_count": 576,
   "metadata": {},
   "outputs": [
    {
     "data": {
      "text/html": [
       "<div>\n",
       "<style scoped>\n",
       "    .dataframe tbody tr th:only-of-type {\n",
       "        vertical-align: middle;\n",
       "    }\n",
       "\n",
       "    .dataframe tbody tr th {\n",
       "        vertical-align: top;\n",
       "    }\n",
       "\n",
       "    .dataframe thead th {\n",
       "        text-align: right;\n",
       "    }\n",
       "</style>\n",
       "<table border=\"1\" class=\"dataframe\">\n",
       "  <thead>\n",
       "    <tr style=\"text-align: right;\">\n",
       "      <th></th>\n",
       "      <th>freight_value</th>\n",
       "      <th>review_score</th>\n",
       "      <th>score_freq</th>\n",
       "      <th>score_rec</th>\n",
       "      <th>score_montant</th>\n",
       "      <th>categorie_regroupee</th>\n",
       "    </tr>\n",
       "  </thead>\n",
       "  <tbody>\n",
       "    <tr>\n",
       "      <th>68464</th>\n",
       "      <td>14.11</td>\n",
       "      <td>1.0</td>\n",
       "      <td>1.0</td>\n",
       "      <td>1.0</td>\n",
       "      <td>1.0</td>\n",
       "      <td>Mode de Vie</td>\n",
       "    </tr>\n",
       "    <tr>\n",
       "      <th>36360</th>\n",
       "      <td>17.24</td>\n",
       "      <td>3.0</td>\n",
       "      <td>1.0</td>\n",
       "      <td>1.0</td>\n",
       "      <td>1.0</td>\n",
       "      <td>Mode de Vie</td>\n",
       "    </tr>\n",
       "    <tr>\n",
       "      <th>52193</th>\n",
       "      <td>13.56</td>\n",
       "      <td>1.0</td>\n",
       "      <td>1.0</td>\n",
       "      <td>1.0</td>\n",
       "      <td>4.0</td>\n",
       "      <td>Mobilier</td>\n",
       "    </tr>\n",
       "    <tr>\n",
       "      <th>17627</th>\n",
       "      <td>17.19</td>\n",
       "      <td>4.0</td>\n",
       "      <td>1.0</td>\n",
       "      <td>1.0</td>\n",
       "      <td>1.0</td>\n",
       "      <td>Mode de Vie</td>\n",
       "    </tr>\n",
       "    <tr>\n",
       "      <th>6314</th>\n",
       "      <td>17.37</td>\n",
       "      <td>1.0</td>\n",
       "      <td>1.0</td>\n",
       "      <td>1.0</td>\n",
       "      <td>3.0</td>\n",
       "      <td>Mobilier</td>\n",
       "    </tr>\n",
       "    <tr>\n",
       "      <th>...</th>\n",
       "      <td>...</td>\n",
       "      <td>...</td>\n",
       "      <td>...</td>\n",
       "      <td>...</td>\n",
       "      <td>...</td>\n",
       "      <td>...</td>\n",
       "    </tr>\n",
       "    <tr>\n",
       "      <th>79081</th>\n",
       "      <td>23.39</td>\n",
       "      <td>4.0</td>\n",
       "      <td>1.0</td>\n",
       "      <td>5.0</td>\n",
       "      <td>3.0</td>\n",
       "      <td>Mobilier</td>\n",
       "    </tr>\n",
       "    <tr>\n",
       "      <th>40881</th>\n",
       "      <td>23.43</td>\n",
       "      <td>5.0</td>\n",
       "      <td>1.0</td>\n",
       "      <td>5.0</td>\n",
       "      <td>3.0</td>\n",
       "      <td>Bricolage et Jardin</td>\n",
       "    </tr>\n",
       "    <tr>\n",
       "      <th>47061</th>\n",
       "      <td>15.33</td>\n",
       "      <td>5.0</td>\n",
       "      <td>1.0</td>\n",
       "      <td>5.0</td>\n",
       "      <td>1.0</td>\n",
       "      <td>Mode de Vie</td>\n",
       "    </tr>\n",
       "    <tr>\n",
       "      <th>28578</th>\n",
       "      <td>8.03</td>\n",
       "      <td>5.0</td>\n",
       "      <td>1.0</td>\n",
       "      <td>5.0</td>\n",
       "      <td>4.0</td>\n",
       "      <td>Beauté et Santé</td>\n",
       "    </tr>\n",
       "    <tr>\n",
       "      <th>81594</th>\n",
       "      <td>19.25</td>\n",
       "      <td>5.0</td>\n",
       "      <td>1.0</td>\n",
       "      <td>5.0</td>\n",
       "      <td>4.0</td>\n",
       "      <td>Mode</td>\n",
       "    </tr>\n",
       "  </tbody>\n",
       "</table>\n",
       "<p>52951 rows × 6 columns</p>\n",
       "</div>"
      ],
      "text/plain": [
       "       freight_value  review_score  score_freq  score_rec  score_montant  \\\n",
       "68464          14.11           1.0         1.0        1.0            1.0   \n",
       "36360          17.24           3.0         1.0        1.0            1.0   \n",
       "52193          13.56           1.0         1.0        1.0            4.0   \n",
       "17627          17.19           4.0         1.0        1.0            1.0   \n",
       "6314           17.37           1.0         1.0        1.0            3.0   \n",
       "...              ...           ...         ...        ...            ...   \n",
       "79081          23.39           4.0         1.0        5.0            3.0   \n",
       "40881          23.43           5.0         1.0        5.0            3.0   \n",
       "47061          15.33           5.0         1.0        5.0            1.0   \n",
       "28578           8.03           5.0         1.0        5.0            4.0   \n",
       "81594          19.25           5.0         1.0        5.0            4.0   \n",
       "\n",
       "       categorie_regroupee  \n",
       "68464          Mode de Vie  \n",
       "36360          Mode de Vie  \n",
       "52193             Mobilier  \n",
       "17627          Mode de Vie  \n",
       "6314              Mobilier  \n",
       "...                    ...  \n",
       "79081             Mobilier  \n",
       "40881  Bricolage et Jardin  \n",
       "47061          Mode de Vie  \n",
       "28578      Beauté et Santé  \n",
       "81594                 Mode  \n",
       "\n",
       "[52951 rows x 6 columns]"
      ]
     },
     "execution_count": 576,
     "metadata": {},
     "output_type": "execute_result"
    }
   ],
   "source": [
    "data_pourcent"
   ]
  },
  {
   "cell_type": "code",
   "execution_count": 577,
   "metadata": {},
   "outputs": [
    {
     "data": {
      "text/plain": [
       "52951"
      ]
     },
     "execution_count": 577,
     "metadata": {},
     "output_type": "execute_result"
    }
   ],
   "source": [
    "n"
   ]
  },
  {
   "cell_type": "code",
   "execution_count": 578,
   "metadata": {},
   "outputs": [],
   "source": [
    "# drop la date pour chaque dataframe "
   ]
  },
  {
   "cell_type": "code",
   "execution_count": 579,
   "metadata": {},
   "outputs": [
    {
     "data": {
      "text/plain": [
       "freight_value          float64\n",
       "review_score           float64\n",
       "score_freq             float64\n",
       "score_rec              float64\n",
       "score_montant          float64\n",
       "categorie_regroupee     object\n",
       "dtype: object"
      ]
     },
     "execution_count": 579,
     "metadata": {},
     "output_type": "execute_result"
    }
   ],
   "source": [
    "data.dtypes"
   ]
  },
  {
   "cell_type": "code",
   "execution_count": 580,
   "metadata": {},
   "outputs": [],
   "source": [
    "data = data.dropna()"
   ]
  },
  {
   "cell_type": "code",
   "execution_count": 581,
   "metadata": {},
   "outputs": [
    {
     "data": {
      "text/plain": [
       "Index(['freight_value', 'review_score', 'score_freq', 'score_rec',\n",
       "       'score_montant', 'categorie_regroupee'],\n",
       "      dtype='object')"
      ]
     },
     "execution_count": 581,
     "metadata": {},
     "output_type": "execute_result"
    }
   ],
   "source": [
    "data.columns"
   ]
  },
  {
   "cell_type": "markdown",
   "metadata": {},
   "source": [
    "### K prototypes"
   ]
  },
  {
   "cell_type": "code",
   "execution_count": 582,
   "metadata": {},
   "outputs": [
    {
     "data": {
      "text/plain": [
       "Index(['freight_value', 'review_score', 'score_freq', 'score_rec',\n",
       "       'score_montant', 'categorie_regroupee'],\n",
       "      dtype='object')"
      ]
     },
     "execution_count": 582,
     "metadata": {},
     "output_type": "execute_result"
    }
   ],
   "source": [
    "data.columns"
   ]
  },
  {
   "cell_type": "code",
   "execution_count": 583,
   "metadata": {},
   "outputs": [],
   "source": [
    "\n",
    "import numpy as np\n",
    "import pandas as pd\n",
    "from kmodes.kprototypes import KPrototypes\n",
    "\n",
    "# sélectionner les colonnes numériques et catégorielles\n",
    "numeric_cols = [col for col in data.columns if data[col].dtype in [np.float64, np.int64]]\n",
    "categorical_cols = [col for col in data.columns if data[col].dtype == 'object']\n",
    "\n",
    "# séparer les colonnes numériques et catégorielles dans deux dataframes distincts\n",
    "numeric_data = data[numeric_cols]\n",
    "categorical_data = data[categorical_cols]\n",
    "\n",
    "\n",
    "\n",
    "\n",
    "# standardiser les colonnes numériques\n",
    "numeric_data = (numeric_data - numeric_data.mean()) / numeric_data.std()\n",
    "\n",
    "\n",
    "\n",
    "# combiner les deux dataframes (numériques et catégorielles)\n",
    "data_combined = pd.concat([numeric_data, categorical_data], axis=1)\n",
    "\n",
    "# initialiser l'algorithme K-Prototypes avec les paramètres nécessaires\n"
   ]
  },
  {
   "cell_type": "code",
   "execution_count": 584,
   "metadata": {},
   "outputs": [
    {
     "name": "stdout",
     "output_type": "stream",
     "text": [
      "Init: initializing centroids\n",
      "Init: initializing centroids\n",
      "Init: initializing clusters\n",
      "Init: initializing clusters\n",
      "Starting iterations...\n",
      "Starting iterations...\n",
      "Run: 1, iteration: 1/20, moves: 11648, ncost: 193128.27826421254\n",
      "Run: 2, iteration: 1/20, moves: 20485, ncost: 193444.90709961066\n",
      "Run: 1, iteration: 2/20, moves: 8913, ncost: 180137.48628956306\n",
      "Run: 2, iteration: 2/20, moves: 3818, ncost: 192116.0719078139\n",
      "Run: 1, iteration: 3/20, moves: 3355, ncost: 177620.19684369085\n",
      "Run: 2, iteration: 3/20, moves: 4751, ncost: 186397.49033243433\n",
      "Run: 1, iteration: 4/20, moves: 1449, ncost: 177163.75694407706\n",
      "Run: 2, iteration: 4/20, moves: 6074, ncost: 178919.02454774056\n",
      "Run: 1, iteration: 5/20, moves: 649, ncost: 177046.83132462556\n",
      "Run: 2, iteration: 5/20, moves: 5886, ncost: 176086.5442002863\n",
      "Run: 1, iteration: 6/20, moves: 559, ncost: 176984.17972786978\n",
      "Run: 2, iteration: 6/20, moves: 2410, ncost: 175704.18142097723\n",
      "Run: 1, iteration: 7/20, moves: 333, ncost: 176965.26714672943\n",
      "Run: 2, iteration: 7/20, moves: 165, ncost: 175701.64267559603\n",
      "Run: 1, iteration: 8/20, moves: 101, ncost: 176961.25998624793\n",
      "Run: 2, iteration: 8/20, moves: 11, ncost: 175701.5739541448\n",
      "Run: 1, iteration: 9/20, moves: 15, ncost: 176961.09198559125\n",
      "Run: 2, iteration: 9/20, moves: 7, ncost: 175701.54476709478\n",
      "Run: 1, iteration: 10/20, moves: 4, ncost: 176961.07164127854\n",
      "Run: 2, iteration: 10/20, moves: 9, ncost: 175701.51361254437\n",
      "Run: 1, iteration: 11/20, moves: 3, ncost: 176961.05805617446\n",
      "Run: 2, iteration: 11/20, moves: 0, ncost: 175701.51361254437\n",
      "Run: 1, iteration: 12/20, moves: 0, ncost: 176961.05805617446\n",
      "Best run was number 2\n",
      "Cluster labels: [4 3 4 ... 1 1 1]\n"
     ]
    }
   ],
   "source": [
    "kproto = KPrototypes(n_clusters=5, init='Huang',n_jobs = -1 , max_iter = 20, n_init=2, verbose=2,random_state=42)\n",
    "\n",
    " # entraîner le modèle sur les données combinées\n",
    "clusters = kproto.fit_predict(data_combined, categorical=list(range(len(numeric_cols), data_combined.shape[1])))\n",
    "\n",
    "# afficher les résultats\n",
    "print(\"Cluster labels:\", clusters) "
   ]
  },
  {
   "cell_type": "code",
   "execution_count": 585,
   "metadata": {},
   "outputs": [
    {
     "data": {
      "text/plain": [
       "array([4, 3, 4, ..., 1, 1, 1], dtype=uint16)"
      ]
     },
     "execution_count": 585,
     "metadata": {},
     "output_type": "execute_result"
    }
   ],
   "source": [
    "clusters"
   ]
  },
  {
   "cell_type": "code",
   "execution_count": 586,
   "metadata": {},
   "outputs": [],
   "source": [
    "from sklearn.metrics.cluster import adjusted_rand_score"
   ]
  },
  {
   "cell_type": "code",
   "execution_count": 587,
   "metadata": {},
   "outputs": [
    {
     "name": "stdout",
     "output_type": "stream",
     "text": [
      "Init: initializing centroids\n",
      "Init: initializing centroids\n",
      "Init: initializing clusters\n",
      "Init: initializing clusters\n",
      "Starting iterations...\n",
      "Starting iterations...\n",
      "Run: 2, iteration: 1/20, moves: 12070, ncost: 161495.905117073\n",
      "Run: 1, iteration: 1/20, moves: 11355, ncost: 174709.6514539591\n",
      "Run: 2, iteration: 2/20, moves: 6016, ncost: 158873.78852509058\n",
      "Run: 1, iteration: 2/20, moves: 8266, ncost: 168216.9828673788\n",
      "Run: 2, iteration: 3/20, moves: 752, ncost: 158782.45331705388\n",
      "Run: 1, iteration: 3/20, moves: 4976, ncost: 163064.95088798454\n",
      "Run: 2, iteration: 4/20, moves: 230, ncost: 158751.85092153374\n",
      "Run: 1, iteration: 4/20, moves: 1799, ncost: 160747.9969732841\n",
      "Run: 2, iteration: 5/20, moves: 253, ncost: 158735.48446742544\n",
      "Run: 1, iteration: 5/20, moves: 881, ncost: 160400.87144623374\n",
      "Run: 2, iteration: 6/20, moves: 197, ncost: 158725.5635009435\n",
      "Run: 1, iteration: 6/20, moves: 681, ncost: 160299.49338288535\n",
      "Run: 2, iteration: 7/20, moves: 107, ncost: 158722.58541477207\n",
      "Run: 1, iteration: 7/20, moves: 209, ncost: 160288.08766869103\n",
      "Run: 2, iteration: 8/20, moves: 33, ncost: 158722.3315323468\n",
      "Run: 1, iteration: 8/20, moves: 49, ncost: 160287.2969754558\n",
      "Run: 2, iteration: 9/20, moves: 10, ncost: 158722.30001966178\n",
      "Run: 1, iteration: 9/20, moves: 12, ncost: 160287.25012754972\n",
      "Run: 2, iteration: 10/20, moves: 2, ncost: 158722.29613141893\n",
      "Run: 1, iteration: 10/20, moves: 0, ncost: 160287.25012754972\n",
      "Run: 2, iteration: 11/20, moves: 0, ncost: 158722.29613141893\n",
      "Best run was number 2\n",
      "Cluster labels: [4 3 4 ... 1 1 1]\n"
     ]
    }
   ],
   "source": [
    "\n",
    "import numpy as np\n",
    "import pandas as pd\n",
    "from kmodes.kprototypes import KPrototypes\n",
    "\n",
    "# sélectionner les colonnes numériques et catégorielles\n",
    "numeric_cols = [col for col in data_pourcent.columns if data_pourcent[col].dtype in [np.float64, np.int64]]\n",
    "categorical_cols = [col for col in data_pourcent.columns if data_pourcent[col].dtype == 'object']\n",
    "\n",
    "# séparer les colonnes numériques et catégorielles dans deux dataframes distincts\n",
    "numeric_data = data_pourcent[numeric_cols]\n",
    "categorical_data = data_pourcent[categorical_cols]\n",
    "\n",
    "\n",
    "\n",
    "\n",
    "# standardiser les colonnes numériques\n",
    "numeric_data = (numeric_data - numeric_data.mean()) / numeric_data.std()\n",
    "\n",
    "# combiner les deux dataframes (numériques et catégorielles)\n",
    "data_combined = pd.concat([numeric_data, categorical_data], axis=1)\n",
    "\n",
    "# initialiser l'algorithme K-Prototypes avec les paramètres nécessaires\n",
    "kproto = KPrototypes(n_clusters=5, init='Huang',n_jobs = -1 , max_iter = 20, n_init=2, verbose=2)\n",
    "\n",
    " # entraîner le modèle sur les données combinées\n",
    "clusters_pourcent = kproto.fit_predict(data_combined, categorical=list(range(len(numeric_cols), data_combined.shape[1])))\n",
    "\n",
    "# afficher les résultats\n",
    "print(\"Cluster labels:\", clusters) \n"
   ]
  },
  {
   "cell_type": "code",
   "execution_count": 588,
   "metadata": {},
   "outputs": [
    {
     "name": "stdout",
     "output_type": "stream",
     "text": [
      "Init: initializing centroidsInit: initializing centroids\n",
      "\n",
      "Init: initializing clusters\n",
      "Init: initializing clusters\n",
      "Starting iterations...\n",
      "Init: initializing centroids\n",
      "Init: initializing clusters\n",
      "Starting iterations...\n",
      "Run: 1, iteration: 1/20, moves: 5937, ncost: 88333.08945363657\n",
      "Run: 1, iteration: 2/20, moves: 1890, ncost: 87323.54139397563\n",
      "Run: 2, iteration: 1/20, moves: 8660, ncost: 101985.5023332659\n",
      "Run: 1, iteration: 3/20, moves: 409, ncost: 87101.05752276855\n",
      "Run: 2, iteration: 2/20, moves: 4757, ncost: 96432.55358548081\n",
      "Run: 1, iteration: 4/20, moves: 119, ncost: 87041.92362902187\n",
      "Run: 2, iteration: 3/20, moves: 1533, ncost: 95811.44940777417\n",
      "Run: 1, iteration: 5/20, moves: 62, ncost: 87019.97182642668\n",
      "Run: 2, iteration: 4/20, moves: 254, ncost: 95786.47268130255\n",
      "Run: 1, iteration: 6/20, moves: 29, ncost: 87015.60144747938\n",
      "Run: 2, iteration: 5/20, moves: 186, ncost: 95765.19915448972\n",
      "Run: 1, iteration: 7/20, moves: 14, ncost: 87014.34288301536\n",
      "Run: 2, iteration: 6/20, moves: 66, ncost: 95762.60557459509\n",
      "Run: 1, iteration: 8/20, moves: 2, ncost: 87014.30858235437\n",
      "Run: 2, iteration: 7/20, moves: 35, ncost: 95761.85822626262\n",
      "Run: 1, iteration: 9/20, moves: 0, ncost: 87014.30858235437\n",
      "Run: 2, iteration: 8/20, moves: 27, ncost: 95761.52025878764\n",
      "Run: 2, iteration: 9/20, moves: 32, ncost: 95760.74461076975\n",
      "Run: 2, iteration: 10/20, moves: 37, ncost: 95760.1632460254\n",
      "Run: 2, iteration: 11/20, moves: 11, ncost: 95760.12091987082\n",
      "Run: 2, iteration: 12/20, moves: 4, ncost: 95760.11135238841\n",
      "Run: 2, iteration: 13/20, moves: 2, ncost: 95760.10816343696\n",
      "Run: 2, iteration: 14/20, moves: 0, ncost: 95760.10816343696\n",
      "Best run was number 1\n",
      "Cluster labels: [4 3 4 ... 1 1 1]\n"
     ]
    }
   ],
   "source": [
    "\n",
    "import numpy as np\n",
    "import pandas as pd\n",
    "from kmodes.kprototypes import KPrototypes\n",
    "\n",
    "# sélectionner les colonnes numériques et catégorielles\n",
    "numeric_cols = [col for col in data_pourcente.columns if data_pourcente[col].dtype in [np.float64, np.int64]]\n",
    "categorical_cols = [col for col in data_pourcente.columns if data_pourcente[col].dtype == 'object']\n",
    "\n",
    "# séparer les colonnes numériques et catégorielles dans deux dataframes distincts\n",
    "numeric_data = data_pourcente[numeric_cols]\n",
    "categorical_data = data_pourcente[categorical_cols]\n",
    "\n",
    "\n",
    "\n",
    "\n",
    "# standardiser les colonnes numériques\n",
    "numeric_data = (numeric_data - numeric_data.mean()) / numeric_data.std()\n",
    "\n",
    "# combiner les deux dataframes (numériques et catégorielles)\n",
    "data_combined = pd.concat([numeric_data, categorical_data], axis=1)\n",
    "\n",
    "# initialiser l'algorithme K-Prototypes avec les paramètres nécessaires\n",
    "kproto = KPrototypes(n_clusters=5, init='Huang',n_jobs = -1 , max_iter = 20, n_init=2, verbose=2)\n",
    "\n",
    " # entraîner le modèle sur les données combinées\n",
    "clusters_pourcente = kproto.fit_predict(data_combined, categorical=list(range(len(numeric_cols), data_combined.shape[1])))\n",
    "\n",
    "# afficher les résultats\n",
    "print(\"Cluster labels:\", clusters) \n"
   ]
  },
  {
   "cell_type": "code",
   "execution_count": 589,
   "metadata": {},
   "outputs": [
    {
     "name": "stdout",
     "output_type": "stream",
     "text": [
      "Init: initializing centroids\n",
      "Init: initializing centroids\n",
      "Init: initializing clusters\n",
      "Init: initializing clusters\n",
      "Starting iterations...\n",
      "Starting iterations...\n",
      "Run: 2, iteration: 1/20, moves: 7762, ncost: 100482.49680775945\n",
      "Run: 1, iteration: 1/20, moves: 9124, ncost: 107174.97191501022\n",
      "Run: 2, iteration: 2/20, moves: 3381, ncost: 94186.35354736002\n",
      "Run: 1, iteration: 2/20, moves: 2440, ncost: 105799.59687883161\n",
      "Run: 2, iteration: 3/20, moves: 1711, ncost: 91875.44474620711\n",
      "Run: 1, iteration: 3/20, moves: 724, ncost: 105282.06416628456\n",
      "Run: 1, iteration: 4/20, moves: 256, ncost: 105127.78974565462\n",
      "Run: 2, iteration: 4/20, moves: 451, ncost: 91749.64167460726\n",
      "Run: 1, iteration: 5/20, moves: 150, ncost: 105084.9848259615\n",
      "Run: 2, iteration: 5/20, moves: 101, ncost: 91741.12766686031\n",
      "Run: 1, iteration: 6/20, moves: 74, ncost: 105070.5665172621\n",
      "Run: 2, iteration: 6/20, moves: 45, ncost: 91740.50904822645\n",
      "Run: 1, iteration: 7/20, moves: 20, ncost: 105068.84073923859\n",
      "Run: 2, iteration: 7/20, moves: 27, ncost: 91740.00851331039\n",
      "Run: 1, iteration: 8/20, moves: 5, ncost: 105068.82089687533\n",
      "Run: 2, iteration: 8/20, moves: 32, ncost: 91739.55915853298\n",
      "Run: 1, iteration: 9/20, moves: 5, ncost: 105068.81564159533\n",
      "Run: 2, iteration: 9/20, moves: 19, ncost: 91739.40417833802\n",
      "Run: 1, iteration: 10/20, moves: 0, ncost: 105068.81564159533\n",
      "Run: 2, iteration: 10/20, moves: 11, ncost: 91739.37668405665\n",
      "Run: 2, iteration: 11/20, moves: 3, ncost: 91739.37392129362\n",
      "Run: 2, iteration: 12/20, moves: 1, ncost: 91739.37334942375\n",
      "Run: 2, iteration: 13/20, moves: 0, ncost: 91739.37334942375\n",
      "Best run was number 2\n",
      "Cluster labels: [4 3 4 ... 1 1 1]\n"
     ]
    }
   ],
   "source": [
    "\n",
    "import numpy as np\n",
    "import pandas as pd\n",
    "from kmodes.kprototypes import KPrototypes\n",
    "\n",
    "# sélectionner les colonnes numériques et catégorielles\n",
    "numeric_cols = [col for col in data_pourcendix.columns if data_pourcendix[col].dtype in [np.float64, np.int64]]\n",
    "categorical_cols = [col for col in data_pourcendix.columns if data_pourcendix[col].dtype == 'object']\n",
    "\n",
    "# séparer les colonnes numériques et catégorielles dans deux dataframes distincts\n",
    "numeric_data = data_pourcendix[numeric_cols]\n",
    "categorical_data = data_pourcendix[categorical_cols]\n",
    "\n",
    "\n",
    "\n",
    "\n",
    "# standardiser les colonnes numériques\n",
    "numeric_data = (numeric_data - numeric_data.mean()) / numeric_data.std()\n",
    "\n",
    "# combiner les deux dataframes (numériques et catégorielles)\n",
    "data_combined = pd.concat([numeric_data, categorical_data], axis=1)\n",
    "\n",
    "# initialiser l'algorithme K-Prototypes avec les paramètres nécessaires\n",
    "kproto = KPrototypes(n_clusters=5, init='Huang',n_jobs = -1 , max_iter = 20, n_init=2, verbose=2)\n",
    "\n",
    " # entraîner le modèle sur les données combinées\n",
    "clusters_pourcendix = kproto.fit_predict(data_combined, categorical=list(range(len(numeric_cols), data_combined.shape[1])))\n",
    "\n",
    "# afficher les résultats\n",
    "print(\"Cluster labels:\", clusters) \n"
   ]
  },
  {
   "cell_type": "code",
   "execution_count": 590,
   "metadata": {},
   "outputs": [
    {
     "data": {
      "text/plain": [
       "0.4645967031132408"
      ]
     },
     "execution_count": 590,
     "metadata": {},
     "output_type": "execute_result"
    }
   ],
   "source": [
    "adjusted_rand_score(clusters_pourcente, clusters_pourcent[:len(clusters_pourcente)])"
   ]
  },
  {
   "cell_type": "code",
   "execution_count": 591,
   "metadata": {},
   "outputs": [
    {
     "data": {
      "text/plain": [
       "0.618252641411393"
      ]
     },
     "execution_count": 591,
     "metadata": {},
     "output_type": "execute_result"
    }
   ],
   "source": [
    "adjusted_rand_score(clusters[:len(clusters_pourcent)], clusters_pourcent)"
   ]
  },
  {
   "cell_type": "code",
   "execution_count": 592,
   "metadata": {},
   "outputs": [
    {
     "data": {
      "text/plain": [
       "0.4123044983426945"
      ]
     },
     "execution_count": 592,
     "metadata": {},
     "output_type": "execute_result"
    }
   ],
   "source": [
    "adjusted_rand_score(clusters_pourcente, clusters[:len(clusters_pourcente)])"
   ]
  },
  {
   "cell_type": "code",
   "execution_count": 593,
   "metadata": {},
   "outputs": [
    {
     "data": {
      "text/plain": [
       "0.5316968907635578"
      ]
     },
     "execution_count": 593,
     "metadata": {},
     "output_type": "execute_result"
    }
   ],
   "source": [
    "adjusted_rand_score(clusters_pourcendix, clusters[:len(clusters_pourcendix)])"
   ]
  },
  {
   "cell_type": "code",
   "execution_count": 594,
   "metadata": {},
   "outputs": [
    {
     "name": "stdout",
     "output_type": "stream",
     "text": [
      "Init: initializing centroids\n",
      "Init: initializing centroids\n",
      "Init: initializing clusters\n",
      "Init: initializing clusters\n",
      "Starting iterations...\n",
      "Starting iterations...\n",
      "Run: 2, iteration: 1/20, moves: 12087, ncost: 155181.0489663343\n",
      "Run: 1, iteration: 1/20, moves: 19287, ncost: 143527.63352305026\n",
      "Run: 2, iteration: 2/20, moves: 2763, ncost: 154224.32003960438\n",
      "Run: 1, iteration: 2/20, moves: 4106, ncost: 140835.15431025668\n",
      "Run: 2, iteration: 3/20, moves: 1043, ncost: 153959.65001440904\n",
      "Run: 1, iteration: 3/20, moves: 1466, ncost: 140427.5385651921\n",
      "Run: 2, iteration: 4/20, moves: 409, ncost: 153907.70650977935\n",
      "Run: 1, iteration: 4/20, moves: 1678, ncost: 139357.4764743142\n",
      "Run: 2, iteration: 5/20, moves: 536, ncost: 153827.84222517355\n",
      "Run: 1, iteration: 5/20, moves: 1064, ncost: 138970.40859540782\n",
      "Run: 2, iteration: 6/20, moves: 1070, ncost: 153565.57891106248\n",
      "Run: 1, iteration: 6/20, moves: 285, ncost: 138785.1633178282\n",
      "Run: 2, iteration: 7/20, moves: 838, ncost: 153316.9599546661\n",
      "Run: 1, iteration: 7/20, moves: 342, ncost: 138460.47400663572\n",
      "Run: 2, iteration: 8/20, moves: 348, ncost: 153299.47584180563\n",
      "Run: 1, iteration: 8/20, moves: 238, ncost: 138182.7594532451\n",
      "Run: 2, iteration: 9/20, moves: 116, ncost: 153297.07880996508\n",
      "Run: 1, iteration: 9/20, moves: 273, ncost: 137487.2585609605\n",
      "Run: 2, iteration: 10/20, moves: 26, ncost: 153296.40664649528\n",
      "Run: 1, iteration: 10/20, moves: 550, ncost: 133290.05389188355\n",
      "Run: 2, iteration: 11/20, moves: 21, ncost: 153295.63019476298\n",
      "Run: 1, iteration: 11/20, moves: 820, ncost: 121240.97844951643\n",
      "Run: 2, iteration: 12/20, moves: 3, ncost: 153295.62252387247\n",
      "Run: 1, iteration: 12/20, moves: 535, ncost: 120997.08533064695\n",
      "Run: 2, iteration: 13/20, moves: 0, ncost: 153295.62252387247\n",
      "Run: 1, iteration: 13/20, moves: 247, ncost: 120988.51792781848\n",
      "Run: 1, iteration: 14/20, moves: 184, ncost: 120982.49698405385\n",
      "Run: 1, iteration: 15/20, moves: 157, ncost: 120977.65641106012\n",
      "Run: 1, iteration: 16/20, moves: 60, ncost: 120977.11650997559\n",
      "Run: 1, iteration: 17/20, moves: 8, ncost: 120977.11131954746\n",
      "Run: 1, iteration: 18/20, moves: 0, ncost: 120977.11131954746\n",
      "Best run was number 1\n",
      "0.5174482451479467\n"
     ]
    }
   ],
   "source": [
    "x = int(len(data) * 0.8) # calculate the index of the last row to keep\n",
    "data_test = data.iloc[:x, :] # create a new DataFrame with the first 10% of the rows\n",
    "\n",
    "\n",
    "\n",
    "# sélectionner les colonnes numériques et catégorielles\n",
    "numeric_cols = [col for col in data_test.columns if data_test[col].dtype in [np.float64, np.int64]]\n",
    "categorical_cols = [col for col in data_test.columns if data_pourcendix[col].dtype == 'object']\n",
    "\n",
    "# séparer les colonnes numériques et catégorielles dans deux dataframes distincts\n",
    "numeric_data = data_test[numeric_cols]\n",
    "categorical_data = data_test[categorical_cols]\n",
    "\n",
    "\n",
    "\n",
    "\n",
    "# standardiser les colonnes numériques\n",
    "numeric_data = (numeric_data - numeric_data.mean()) / numeric_data.std()\n",
    "\n",
    "# combiner les deux dataframes (numériques et catégorielles)\n",
    "data_combined = pd.concat([numeric_data, categorical_data], axis=1)\n",
    "\n",
    "# initialiser l'algorithme K-Prototypes avec les paramètres nécessaires\n",
    "kproto = KPrototypes(n_clusters=5, init='Huang',n_jobs = -1 , max_iter = 20, n_init=2, verbose=2 )\n",
    "\n",
    " # entraîner le modèle sur les données combinées\n",
    "clusters_test = kproto.fit_predict(data_combined, categorical=list(range(len(numeric_cols), data_combined.shape[1])))\n",
    "\n",
    "# afficher les résultats\n",
    "print(adjusted_rand_score(clusters_test, clusters[:len(clusters_test)]))\n",
    "\n"
   ]
  },
  {
   "cell_type": "markdown",
   "metadata": {},
   "source": [
    "ON COMPARE LE DATA AVEC 50% des donnes avec celui avec 60% puis 80% puis 100%"
   ]
  },
  {
   "cell_type": "markdown",
   "metadata": {},
   "source": [
    "# on va faire en fonction du nombre de données plutôt "
   ]
  },
  {
   "cell_type": "code",
   "execution_count": 595,
   "metadata": {},
   "outputs": [],
   "source": [
    "clusters90 = clusters_pourcent"
   ]
  },
  {
   "cell_type": "code",
   "execution_count": 596,
   "metadata": {},
   "outputs": [],
   "source": [
    "clusters50 = clusters_pourcente"
   ]
  },
  {
   "cell_type": "code",
   "execution_count": 597,
   "metadata": {},
   "outputs": [
    {
     "data": {
      "text/plain": [
       "52951"
      ]
     },
     "execution_count": 597,
     "metadata": {},
     "output_type": "execute_result"
    }
   ],
   "source": [
    "len(clusters_pourcent)"
   ]
  },
  {
   "cell_type": "code",
   "execution_count": 598,
   "metadata": {},
   "outputs": [],
   "source": [
    "clusters60 = clusters_pourcendix"
   ]
  },
  {
   "cell_type": "code",
   "execution_count": 599,
   "metadata": {},
   "outputs": [],
   "source": [
    "clusters80 = clusters_test"
   ]
  },
  {
   "cell_type": "code",
   "execution_count": 600,
   "metadata": {},
   "outputs": [],
   "source": [
    "ari_100 = adjusted_rand_score(clusters50, clusters[:len(clusters50)])\n",
    "ari_60 = adjusted_rand_score(clusters50, clusters60[:len(clusters50)])\n",
    "ari_80 = adjusted_rand_score(clusters50, clusters80[:len(clusters50)])\n",
    "ari_90 = adjusted_rand_score(clusters50, clusters90[:len(clusters50)])"
   ]
  },
  {
   "cell_type": "code",
   "execution_count": 601,
   "metadata": {},
   "outputs": [
    {
     "data": {
      "image/png": "[encoded data removed]",
      "text/plain": [
       "<Figure size 640x480 with 1 Axes>"
      ]
     },
     "metadata": {},
     "output_type": "display_data"
    }
   ],
   "source": [
    "import matplotlib.pyplot as plt\n",
    "\n",
    "# Define the percentages of data used and the corresponding ARI scores\n",
    "percentages = [60,80,90,100]\n",
    "ari_scores = [ari_60,ari_80,ari_90,ari_100]\n",
    "\n",
    "# Create a line plot of the ARI scores vs the percentage of data used\n",
    "plt.plot(percentages, ari_scores)\n",
    "plt.xlabel('Percentage of data used')\n",
    "plt.ylabel('ARI score')\n",
    "plt.title('Evolution of ARI score with percentage of data used')\n",
    "plt.show()\n"
   ]
  }
 ],
 "metadata": {
  "kernelspec": {
   "display_name": "Python 3.9.15 ('potages')",
   "language": "python",
   "name": "python3"
  },
  "language_info": {
   "codemirror_mode": {
    "name": "ipython",
    "version": 3
   },
   "file_extension": ".py",
   "mimetype": "text/x-python",
   "name": "python",
   "nbconvert_exporter": "python",
   "pygments_lexer": "ipython3",
   "version": "3.9.15"
  },
  "orig_nbformat": 4,
  "vscode": {
   "interpreter": {
    "hash": "be4f75b9bd78fe2cc5487b34db8fc5f8c44ba010e3355df68b2359faa8da5069"
   }
  }
 },
 "nbformat": 4,
 "nbformat_minor": 2
}
