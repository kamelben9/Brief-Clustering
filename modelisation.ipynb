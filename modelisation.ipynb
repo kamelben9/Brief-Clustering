{
 "cells": [
  {
   "cell_type": "code",
   "execution_count": null,
   "metadata": {},
   "outputs": [],
   "source": []
  }
 ],
 "metadata": {
  "kernelspec": {
   "display_name": "Python 3.9.15 ('data_anayse_env')",
   "language": "python",
   "name": "python3"
  },
  "language_info": {
   "name": "python",
   "version": "3.9.15"
  },
  "orig_nbformat": 4,
  "vscode": {
   "interpreter": {
    "hash": "dc0462446127c1e0e542cdab515213248fc91a25e9aea2306dfdc819a792765d"
   }
  }
 },
 "nbformat": 4,
 "nbformat_minor": 2
}
